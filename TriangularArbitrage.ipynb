{
  "nbformat": 4,
  "nbformat_minor": 0,
  "metadata": {
    "colab": {
      "name": "Mikael.ipynb",
      "provenance": [],
      "collapsed_sections": [],
      "authorship_tag": "ABX9TyP+IMqYeiGF88P3u0Wmq0Su",
      "include_colab_link": true
    },
    "kernelspec": {
      "name": "python3",
      "display_name": "Python 3"
    },
    "language_info": {
      "name": "python"
    }
  },
  "cells": [
    {
      "cell_type": "markdown",
      "metadata": {
        "id": "view-in-github",
        "colab_type": "text"
      },
      "source": [
        "<a href=\"https://colab.research.google.com/github/mikaelbaymani/algo/blob/master/TriangularArbitrage.ipynb\" target=\"_parent\"><img src=\"https://colab.research.google.com/assets/colab-badge.svg\" alt=\"Open In Colab\"/></a>"
      ]
    },
    {
      "cell_type": "code",
      "metadata": {
        "id": "nJPpBEqqk5UR"
      },
      "source": [
        "# 1. Use multivariate Geometric BM to predict univ. GBM. Use one ML technique,\n",
        "#    scikit learn only, on google colab."
      ],
      "execution_count": null,
      "outputs": []
    },
    {
      "cell_type": "code",
      "metadata": {
        "id": "ioM9M_n5EB3K"
      },
      "source": [
        "import numpy as np\n",
        "import pandas as pd\n",
        "import pandas_datareader as dr"
      ],
      "execution_count": null,
      "outputs": []
    },
    {
      "cell_type": "code",
      "metadata": {
        "id": "dOtVE60NElPy"
      },
      "source": [
        "# Use case: Forecasting exchange rate JPY/EUR using triangle arbitrage.\n",
        "#\n",
        "#       USD\n",
        "#      /   \\\n",
        "#     /     \\\n",
        "#    /       \\\n",
        "#  JPY_______EUR"
      ],
      "execution_count": null,
      "outputs": []
    },
    {
      "cell_type": "code",
      "metadata": {
        "id": "pjzDSJXuEqrI"
      },
      "source": [
        "start_date = '2002-01-01'\n",
        "end_date   = '2021-05-31'\n",
        "# Roughly 22 working days in a month - use this as our analysis window.\n",
        "moving_window = 22"
      ],
      "execution_count": null,
      "outputs": []
    },
    {
      "cell_type": "code",
      "metadata": {
        "id": "4-fmhW4TE2xM"
      },
      "source": [
        "# Get currency exchange rate data.\n",
        "JPY2USD = dr.data.DataReader( 'JPYUSD%3DX', data_source='yahoo', start=start_date, end=end_date )\n",
        "USD2EUR = dr.data.DataReader( 'USDEUR%3DX', data_source='yahoo', start=start_date, end=end_date )\n",
        "EUR2JPY = dr.data.DataReader( 'EURJPY%3DX', data_source='yahoo', start=start_date, end=end_date )"
      ],
      "execution_count": null,
      "outputs": []
    },
    {
      "cell_type": "code",
      "metadata": {
        "id": "apKo46EKE760"
      },
      "source": [
        "# Rename column 'Adj Close'\n",
        "JPY2USD.rename( columns = {'Adj Close': 'JPY/USD'}, inplace=True )\n",
        "USD2EUR.rename( columns = {'Adj Close': 'USD/EUR'}, inplace=True )"
      ],
      "execution_count": null,
      "outputs": []
    },
    {
      "cell_type": "code",
      "metadata": {
        "id": "hs1hQs-aFAbQ"
      },
      "source": [
        "merged = pd.merge( JPY2USD['JPY/USD'], USD2EUR['USD/EUR'], on='Date' )"
      ],
      "execution_count": null,
      "outputs": []
    },
    {
      "cell_type": "code",
      "metadata": {
        "id": "vDFFKgXJFD8K"
      },
      "source": [
        "# Calculate correlation, mean and standard deviation.\n",
        "corr = merged['JPY/USD'].rolling( moving_window ).corr( merged['USD/EUR'] )\n",
        "mu_1, sigma_1 = merged.rolling( moving_window ).mean().iloc[:, 0], merged.rolling( moving_window ).std().iloc[:, 0]\n",
        "mu_2, sigma_2 = merged.rolling( moving_window ).mean().iloc[:, 1], merged.rolling( moving_window ).std().iloc[:, 1]"
      ],
      "execution_count": null,
      "outputs": []
    },
    {
      "cell_type": "code",
      "metadata": {
        "colab": {
          "base_uri": "https://localhost:8080/"
        },
        "id": "DKig9EE7FP7a",
        "outputId": "334a4085-d156-4fe5-c7e9-062866420190"
      },
      "source": [
        "# Create columns.\n",
        "merged['corr'], merged['mu_1'], merged['mu_2'], merged['sigma_1'], merged['sigma2_1'] = corr, mu_1, mu_2, sigma_1, sigma_2\n",
        "merged.drop( ['JPY/USD','USD/EUR'] , inplace=True, axis=1 ), merged.dropna( inplace=True )\n",
        "print( merged.head )"
      ],
      "execution_count": null,
      "outputs": [
        {
          "output_type": "stream",
          "text": [
            "<bound method NDFrame.head of                 corr      mu_1      mu_2   sigma_1  sigma2_1\n",
            "Date                                                        \n",
            "2003-12-30 -0.857416  0.009285  0.813051  0.000048  0.010130\n",
            "2003-12-31 -0.777255  0.009292  0.811165  0.000039  0.009545\n",
            "2004-01-01 -0.733682  0.009297  0.809692  0.000034  0.009453\n",
            "2004-01-02 -0.723062  0.009303  0.808325  0.000033  0.009327\n",
            "2004-01-05 -0.731076  0.009311  0.806527  0.000037  0.009214\n",
            "...              ...       ...       ...       ...       ...\n",
            "2021-05-25 -0.349337  0.009175  0.824601  0.000030  0.004773\n",
            "2021-05-26 -0.465231  0.009171  0.824258  0.000026  0.004810\n",
            "2021-05-27 -0.358136  0.009167  0.823941  0.000029  0.004843\n",
            "2021-05-30 -0.264694  0.009162  0.823775  0.000030  0.004903\n",
            "2021-06-01 -0.217726  0.009160  0.823479  0.000030  0.005045\n",
            "\n",
            "[4496 rows x 5 columns]>\n"
          ],
          "name": "stdout"
        }
      ]
    },
    {
      "cell_type": "code",
      "metadata": {
        "colab": {
          "base_uri": "https://localhost:8080/"
        },
        "id": "O_QzcNlhF6y1",
        "outputId": "cb0dc7ae-6205-49be-f23f-571dded47bd2"
      },
      "source": [
        "rows, _ = merged.shape\n",
        "y, X, t = EUR2JPY['Adj Close'].iloc[-rows:].to_numpy(), merged.to_numpy(), EUR2JPY.index[-rows:].to_numpy()\n",
        "print( f\"X.shape = {X.shape}, y.shape = {y.shape}, t.shape = {t.shape}\" )"
      ],
      "execution_count": null,
      "outputs": [
        {
          "output_type": "stream",
          "text": [
            "X.shape = (4496, 5), y.shape = (4496,), t.shape = (4496,)\n"
          ],
          "name": "stdout"
        }
      ]
    },
    {
      "cell_type": "code",
      "metadata": {
        "id": "-0U_hdzVGUyD"
      },
      "source": [
        "from sklearn.model_selection import train_test_split\n",
        "from sklearn.preprocessing import PolynomialFeatures\n",
        "from sklearn.linear_model import LinearRegression\n",
        "from sklearn.metrics import mean_squared_error"
      ],
      "execution_count": null,
      "outputs": []
    },
    {
      "cell_type": "code",
      "metadata": {
        "id": "TPDOgKmUGxXr"
      },
      "source": [
        "# Split data\n",
        "# ==========\n",
        "# training data:   60%\n",
        "# validation data: 20%\n",
        "# testing data:    20%\n",
        "X_training_and_testing, X_validation, y_training_and_testing, y_validation, t_training_and_testing, t_validation = train_test_split( X, y, t, test_size=1./5., shuffle=False )\n",
        "X_training, X_testing, y_training, y_testing, t_training, t_testing = train_test_split( X_training_and_testing, y_training_and_testing, t_training_and_testing, test_size=1./4., shuffle=False )"
      ],
      "execution_count": null,
      "outputs": []
    },
    {
      "cell_type": "code",
      "metadata": {
        "id": "QBC89mwcGu1G"
      },
      "source": [
        "RMSE = lambda y, y_hat : np.sqrt( mean_squared_error( y, y_hat ) )"
      ],
      "execution_count": null,
      "outputs": []
    },
    {
      "cell_type": "code",
      "metadata": {
        "id": "JJ6FR1JVHCkh"
      },
      "source": [
        "min_rmse = None\n",
        "best_deg = None\n",
        "best_model = None"
      ],
      "execution_count": null,
      "outputs": []
    },
    {
      "cell_type": "code",
      "metadata": {
        "colab": {
          "base_uri": "https://localhost:8080/"
        },
        "id": "m-Es1xUAHGU5",
        "outputId": "70664f20-58d4-4159-9426-25b3acc02ad4"
      },
      "source": [
        "for deg in [1, 2, 3, 4, 5]:\n",
        "\n",
        "    # Find optimal model complexity (degree of polynomial).\n",
        "\n",
        "    poly = PolynomialFeatures( degree = deg )\n",
        "    X_training_poly = poly.fit_transform( X_training )\n",
        "\n",
        "    model = LinearRegression().fit( X_training_poly, y_training )\n",
        "\n",
        "    y_validation_pred = model.predict( poly.fit_transform( X_validation ) )\n",
        "    rmse = RMSE( y_validation, y_validation_pred )\n",
        "\n",
        "    if min_rmse is None or rmse < min_rmse:\n",
        "        min_rmse = rmse\n",
        "        best_deg = deg\n",
        "        best_model = model\n",
        "\n",
        "    print( f\"degree={deg}, RMSE={rmse}\" )"
      ],
      "execution_count": null,
      "outputs": [
        {
          "output_type": "stream",
          "text": [
            "degree=1, RMSE=2.3431196080300243\n",
            "degree=2, RMSE=2.258155766721632\n",
            "degree=3, RMSE=3.6492476961412685\n",
            "degree=4, RMSE=24.895285204222077\n",
            "degree=5, RMSE=25.365514070871928\n"
          ],
          "name": "stdout"
        }
      ]
    },
    {
      "cell_type": "code",
      "metadata": {
        "id": "E5cJHP7fHNWt"
      },
      "source": [
        "import matplotlib.pyplot as plt"
      ],
      "execution_count": null,
      "outputs": []
    },
    {
      "cell_type": "code",
      "metadata": {
        "colab": {
          "base_uri": "https://localhost:8080/",
          "height": 281
        },
        "id": "fkqHPUESHeg6",
        "outputId": "dca5e82f-5821-4af5-ff57-386f7b1adf61"
      },
      "source": [
        "plt.plot( t_training, y_training, 'b.' )\n",
        "plt.plot( t_validation, y_validation, 'c.' )\n",
        "plt.plot( t_testing, y_testing, 'g.' )\n",
        "X_new = PolynomialFeatures( degree = best_deg ).fit_transform( X )\n",
        "plt.plot( t, best_model.predict( X_new ), color='r' )\n",
        "plt.legend( ['Training set', 'Validation set', 'Test set', 'Model'] )\n",
        "plt.ylabel( 'EUR/JPY exchange rate' )\n",
        "plt.title( f\"Best degree = {best_deg}, RMSE = {min_rmse}\" )\n",
        "plt.show()"
      ],
      "execution_count": null,
      "outputs": [
        {
          "output_type": "display_data",
          "data": {
            "image/png": "[encoded data removed]",
            "text/plain": [
              "<Figure size 432x288 with 1 Axes>"
            ]
          },
          "metadata": {
            "tags": [],
            "needs_background": "light"
          }
        }
      ]
    },
    {
      "cell_type": "code",
      "metadata": {
        "colab": {
          "base_uri": "https://localhost:8080/"
        },
        "id": "r9Z9349HHguX",
        "outputId": "6ff288ac-42d7-4dac-8ff5-bab378cf661a"
      },
      "source": [
        "X_testing_new = PolynomialFeatures( degree = best_deg ).fit_transform( X_testing )\n",
        "print( f\"RMSE: {RMSE( y_testing, best_model.predict( X_testing_new ) )}\" )"
      ],
      "execution_count": null,
      "outputs": [
        {
          "output_type": "stream",
          "text": [
            "RMSE: 3.596228997264477\n"
          ],
          "name": "stdout"
        }
      ]
    },
    {
      "cell_type": "code",
      "metadata": {
        "colab": {
          "base_uri": "https://localhost:8080/"
        },
        "id": "qmfCGarXHqFg",
        "outputId": "491aab40-4d16-49f4-cff1-27149e12ef42"
      },
      "source": [
        "# Univ. GBM\n",
        "print( f\"mu: {best_model.predict( X_new ).mean()}\" )\n",
        "print( f\"sigma: {best_model.predict( X_new ).std()}\" )"
      ],
      "execution_count": null,
      "outputs": [
        {
          "output_type": "stream",
          "text": [
            "mu: 130.969189088005\n",
            "sigma: 14.782089385828122\n"
          ],
          "name": "stdout"
        }
      ]
    },
    {
      "cell_type": "code",
      "metadata": {
        "id": "3TlW-TqyHqwG"
      },
      "source": [
        ""
      ],
      "execution_count": null,
      "outputs": []
    }
  ]
}